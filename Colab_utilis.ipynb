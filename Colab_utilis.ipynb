{
  "nbformat": 4,
  "nbformat_minor": 0,
  "metadata": {
    "colab": {
      "name": "Colab_utilis.ipynb",
      "provenance": [],
      "authorship_tag": "ABX9TyObFmYW7IzLKWyDuT4//cio",
      "include_colab_link": true
    },
    "kernelspec": {
      "name": "python3",
      "display_name": "Python 3"
    }
  },
  "cells": [
    {
      "cell_type": "markdown",
      "metadata": {
        "id": "view-in-github",
        "colab_type": "text"
      },
      "source": [
        "<a href=\"https://colab.research.google.com/github/subapalani/Movie-Reviews-topic-modeling/blob/master/Colab_utilis.ipynb\" target=\"_parent\"><img src=\"https://colab.research.google.com/assets/colab-badge.svg\" alt=\"Open In Colab\"/></a>"
      ]
    },
    {
      "cell_type": "code",
      "metadata": {
        "id": "GXTf9yp1OYPA",
        "colab_type": "code",
        "colab": {}
      },
      "source": [
        "import collections\n",
        "import os\n",
        "\n",
        "import PIL\n",
        "from google.colab import files\n",
        "import matplotlib.pyplot as plt\n",
        "import torch\n",
        "from torchvision import transforms"
      ],
      "execution_count": 0,
      "outputs": []
    },
    {
      "cell_type": "code",
      "metadata": {
        "id": "4VNdtKRkOhxA",
        "colab_type": "code",
        "colab": {}
      },
      "source": [
        "def upload_files():\n",
        "  \"\"\"Creates a widget to upload files from your local machine to Colab.\n",
        "  The files are saved in '/tmp/<file_name>'.\n",
        "  \"\"\"\n",
        "  uploaded = files.upload()\n",
        "  for name, data in uploaded.items():\n",
        "    with open(f'/tmp/{name}', 'wb') as f:\n",
        "      f.write(data)\n",
        "  print(os.listdir('/tmp'))"
      ],
      "execution_count": 0,
      "outputs": []
    },
    {
      "cell_type": "code",
      "metadata": {
        "id": "hQ1BcBQ-QB_K",
        "colab_type": "code",
        "colab": {}
      },
      "source": [
        "def load_image(path, size=None, remove_alpha_channel=True):\n",
        "  \"\"\"Loads an image from the given path as a torch.Tensor.\n",
        "  Args:\n",
        "    path: The path to the image to load.\n",
        "    size: Either None, an integer, or a pair of integers. If not None, the \n",
        "      image is resized to the given size before being returned.\n",
        "    remove_alpha_channel: If True, removes the alpha channel from the image.\n",
        "  Returns:\n",
        "    The loaded image as a torch.Tensor.\n",
        "  \"\"\" \n",
        "  transform = []\n",
        "  if size is not None:\n",
        "    size = size if isinstance(size, collections.Sequence) else (size, size)\n",
        "    assert len(size) == 2, \"'size' must either be a scalar or contain 2 items\"\n",
        "    transform.append(transforms.Resize(size))\n",
        "  transform.append(transforms.ToTensor())\n",
        "  image_loader = transforms.Compose(transform)\n",
        "\n",
        "  image = PIL.Image.open(path)\n",
        "  image = image_loader(image)\n",
        "  if remove_alpha_channel:\n",
        "      image = image[:3, :, :]\n",
        "  image = image.to(torch.float)\n",
        "\n",
        "  return image\n",
        "  "
      ],
      "execution_count": 0,
      "outputs": []
    },
    {
      "cell_type": "code",
      "metadata": {
        "id": "ZBAYgozXSWw-",
        "colab_type": "code",
        "colab": {}
      },
      "source": [
        "def imshow(tensor, title=None, figsize=None):\n",
        "  \"\"\"Renders the given tensor as an image using Matplotlib.\n",
        "  Args:\n",
        "    tensor: The tensor to render as an image.\n",
        "    title: The title for the rendered image. Passed to Matplotlib.\n",
        "    figsize: The size (in inches) for the image. Passed to Matplotlib.\n",
        "  \"\"\"\n",
        "  image_unloader = transforms.ToPILImage()\n",
        "  tensor = tensor.cpu().clone().squeeze(0)\n",
        "  image = image_unloader(tensor)\n",
        "\n",
        "  plt.figure(figsize=figsize)\n",
        "  plt.title(title)\n",
        "  plt.axis('off')\n",
        "  plt.imshow(image)\n"
      ],
      "execution_count": 0,
      "outputs": []
    }
  ]
}